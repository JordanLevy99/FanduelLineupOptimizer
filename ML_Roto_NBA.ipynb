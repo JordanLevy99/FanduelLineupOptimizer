{
 "cells": [
  {
   "cell_type": "code",
   "execution_count": 1,
   "metadata": {},
   "outputs": [],
   "source": [
    "import pandas as pd\n",
    "import numpy as np\n",
    "import seaborn as sns\n",
    "import os"
   ]
  },
  {
   "cell_type": "code",
   "execution_count": 2,
   "metadata": {},
   "outputs": [],
   "source": [
    "from sklearn.linear_model import LinearRegression\n",
    "from sklearn.preprocessing import FunctionTransformer\n",
    "from sklearn.preprocessing import OneHotEncoder\n",
    "from sklearn.pipeline import Pipeline\n",
    "from sklearn.compose import ColumnTransformer"
   ]
  },
  {
   "cell_type": "code",
   "execution_count": 3,
   "metadata": {},
   "outputs": [],
   "source": [
    "from sklearn.preprocessing import OrdinalEncoder\n",
    "from sklearn.model_selection import train_test_split\n",
    "from sklearn.tree import DecisionTreeClassifier\n",
    "from sklearn.neural_network import MLPClassifier\n",
    "from sklearn.preprocessing import StandardScaler"
   ]
  },
  {
   "cell_type": "code",
   "execution_count": 4,
   "metadata": {},
   "outputs": [],
   "source": [
    "from sklearn.neural_network import MLPRegressor"
   ]
  },
  {
   "cell_type": "code",
   "execution_count": 5,
   "metadata": {},
   "outputs": [
    {
     "name": "stderr",
     "output_type": "stream",
     "text": [
      "/Users/jordanlevy/Desktop/anaconda3/lib/python3.7/site-packages/IPython/core/interactiveshell.py:3057: DtypeWarning: Columns (10,11,12) have mixed types. Specify dtype option on import or set low_memory=False.\n",
      "  interactivity=interactivity, compiler=compiler, result=result)\n"
     ]
    }
   ],
   "source": [
    "total_data = pd.read_csv('Combined_Roto_NBA_18-19.csv')"
   ]
  },
  {
   "cell_type": "code",
   "execution_count": 6,
   "metadata": {},
   "outputs": [
    {
     "data": {
      "text/plain": [
       "Index(['Date', 'Name', 'Salaries', 'Team', 'Position', 'Opponent',\n",
       "       'Unnamed: 6', 'Projected Minutes', 'DvP', 'DvPRank', 'O/U', 'Line',\n",
       "       'Total', 'Movement', 'Ceiling', 'Floor', 'Projection', 'Pts/$/K', 'WL',\n",
       "       'MIN', 'FGM', 'FGA', 'FG_PCT', 'FG3M', 'FG3A', 'FG3_PCT', 'FTM', 'FTA',\n",
       "       'FT_PCT', 'OREB', 'DREB', 'REB', 'AST', 'STL', 'BLK', 'TOV', 'PF',\n",
       "       'PTS', 'PLUS_MINUS', 'FD_PTS'],\n",
       "      dtype='object')"
      ]
     },
     "execution_count": 6,
     "metadata": {},
     "output_type": "execute_result"
    }
   ],
   "source": [
    "total_data.columns"
   ]
  },
  {
   "cell_type": "code",
   "execution_count": 7,
   "metadata": {},
   "outputs": [],
   "source": [
    "feat_data = total_data[['Date', 'Position', 'Salaries', 'Line', 'Projected Minutes', 'Ceiling', 'Floor', 'Projection', 'FD_PTS']]"
   ]
  },
  {
   "cell_type": "code",
   "execution_count": 8,
   "metadata": {},
   "outputs": [],
   "source": [
    "feat_data = feat_data[feat_data['Line'] != '\\xa0'].reset_index(drop=True)#['Line'].str.strip(' ')"
   ]
  },
  {
   "cell_type": "code",
   "execution_count": 62,
   "metadata": {},
   "outputs": [],
   "source": [
    "feat_data['Line'] = feat_data['Line'].astype('int')"
   ]
  },
  {
   "cell_type": "code",
   "execution_count": 63,
   "metadata": {},
   "outputs": [],
   "source": [
    "mean_data = feat_data.groupby('Date').transform(np.mean)\n",
    "std_data = feat_data.groupby('Date').transform(np.std)"
   ]
  },
  {
   "cell_type": "code",
   "execution_count": 64,
   "metadata": {},
   "outputs": [
    {
     "data": {
      "text/html": [
       "<div>\n",
       "<style scoped>\n",
       "    .dataframe tbody tr th:only-of-type {\n",
       "        vertical-align: middle;\n",
       "    }\n",
       "\n",
       "    .dataframe tbody tr th {\n",
       "        vertical-align: top;\n",
       "    }\n",
       "\n",
       "    .dataframe thead th {\n",
       "        text-align: right;\n",
       "    }\n",
       "</style>\n",
       "<table border=\"1\" class=\"dataframe\">\n",
       "  <thead>\n",
       "    <tr style=\"text-align: right;\">\n",
       "      <th></th>\n",
       "      <th>Date</th>\n",
       "      <th>Position</th>\n",
       "      <th>Salaries</th>\n",
       "      <th>Line</th>\n",
       "      <th>Projected Minutes</th>\n",
       "      <th>Ceiling</th>\n",
       "      <th>Floor</th>\n",
       "      <th>Projection</th>\n",
       "      <th>FD_PTS</th>\n",
       "    </tr>\n",
       "  </thead>\n",
       "  <tbody>\n",
       "    <tr>\n",
       "      <th>0</th>\n",
       "      <td>2018-10-16</td>\n",
       "      <td>PF</td>\n",
       "      <td>6400</td>\n",
       "      <td>180</td>\n",
       "      <td>33.0</td>\n",
       "      <td>37.61</td>\n",
       "      <td>18.53</td>\n",
       "      <td>28.07</td>\n",
       "      <td>11.7</td>\n",
       "    </tr>\n",
       "    <tr>\n",
       "      <th>1</th>\n",
       "      <td>2018-10-16</td>\n",
       "      <td>C</td>\n",
       "      <td>10400</td>\n",
       "      <td>180</td>\n",
       "      <td>33.0</td>\n",
       "      <td>59.02</td>\n",
       "      <td>33.20</td>\n",
       "      <td>46.11</td>\n",
       "      <td>42.0</td>\n",
       "    </tr>\n",
       "    <tr>\n",
       "      <th>2</th>\n",
       "      <td>2018-10-16</td>\n",
       "      <td>SG</td>\n",
       "      <td>5900</td>\n",
       "      <td>-215</td>\n",
       "      <td>32.0</td>\n",
       "      <td>34.31</td>\n",
       "      <td>18.07</td>\n",
       "      <td>26.19</td>\n",
       "      <td>19.0</td>\n",
       "    </tr>\n",
       "    <tr>\n",
       "      <th>3</th>\n",
       "      <td>2018-10-16</td>\n",
       "      <td>SF</td>\n",
       "      <td>6500</td>\n",
       "      <td>180</td>\n",
       "      <td>33.0</td>\n",
       "      <td>39.30</td>\n",
       "      <td>18.92</td>\n",
       "      <td>29.11</td>\n",
       "      <td>22.2</td>\n",
       "    </tr>\n",
       "    <tr>\n",
       "      <th>4</th>\n",
       "      <td>2018-10-16</td>\n",
       "      <td>PG</td>\n",
       "      <td>8400</td>\n",
       "      <td>-215</td>\n",
       "      <td>33.0</td>\n",
       "      <td>46.72</td>\n",
       "      <td>28.64</td>\n",
       "      <td>37.68</td>\n",
       "      <td>19.3</td>\n",
       "    </tr>\n",
       "  </tbody>\n",
       "</table>\n",
       "</div>"
      ],
      "text/plain": [
       "         Date Position  Salaries  Line  Projected Minutes  Ceiling  Floor  \\\n",
       "0  2018-10-16       PF      6400   180               33.0    37.61  18.53   \n",
       "1  2018-10-16        C     10400   180               33.0    59.02  33.20   \n",
       "2  2018-10-16       SG      5900  -215               32.0    34.31  18.07   \n",
       "3  2018-10-16       SF      6500   180               33.0    39.30  18.92   \n",
       "4  2018-10-16       PG      8400  -215               33.0    46.72  28.64   \n",
       "\n",
       "   Projection  FD_PTS  \n",
       "0       28.07    11.7  \n",
       "1       46.11    42.0  \n",
       "2       26.19    19.0  \n",
       "3       29.11    22.2  \n",
       "4       37.68    19.3  "
      ]
     },
     "execution_count": 64,
     "metadata": {},
     "output_type": "execute_result"
    }
   ],
   "source": [
    "feat_data.head()"
   ]
  },
  {
   "cell_type": "code",
   "execution_count": 65,
   "metadata": {},
   "outputs": [],
   "source": [
    "feat_scale_data = (feat_data.iloc[:,2:] - mean_data) / std_data "
   ]
  },
  {
   "cell_type": "code",
   "execution_count": 66,
   "metadata": {},
   "outputs": [],
   "source": [
    "feat_scale_data['Position'] = feat_data['Position'].values"
   ]
  },
  {
   "cell_type": "code",
   "execution_count": 67,
   "metadata": {},
   "outputs": [
    {
     "data": {
      "text/html": [
       "<div>\n",
       "<style scoped>\n",
       "    .dataframe tbody tr th:only-of-type {\n",
       "        vertical-align: middle;\n",
       "    }\n",
       "\n",
       "    .dataframe tbody tr th {\n",
       "        vertical-align: top;\n",
       "    }\n",
       "\n",
       "    .dataframe thead th {\n",
       "        text-align: right;\n",
       "    }\n",
       "</style>\n",
       "<table border=\"1\" class=\"dataframe\">\n",
       "  <thead>\n",
       "    <tr style=\"text-align: right;\">\n",
       "      <th></th>\n",
       "      <th>Salaries</th>\n",
       "      <th>Line</th>\n",
       "      <th>Projected Minutes</th>\n",
       "      <th>Ceiling</th>\n",
       "      <th>Floor</th>\n",
       "      <th>Projection</th>\n",
       "      <th>FD_PTS</th>\n",
       "      <th>Position</th>\n",
       "    </tr>\n",
       "  </thead>\n",
       "  <tbody>\n",
       "    <tr>\n",
       "      <th>0</th>\n",
       "      <td>0.359145</td>\n",
       "      <td>0.364787</td>\n",
       "      <td>1.057416</td>\n",
       "      <td>0.403134</td>\n",
       "      <td>0.369699</td>\n",
       "      <td>0.398658</td>\n",
       "      <td>-0.690765</td>\n",
       "      <td>PF</td>\n",
       "    </tr>\n",
       "    <tr>\n",
       "      <th>1</th>\n",
       "      <td>2.166457</td>\n",
       "      <td>0.364787</td>\n",
       "      <td>1.057416</td>\n",
       "      <td>1.968046</td>\n",
       "      <td>1.784520</td>\n",
       "      <td>1.937222</td>\n",
       "      <td>1.249517</td>\n",
       "      <td>C</td>\n",
       "    </tr>\n",
       "    <tr>\n",
       "      <th>2</th>\n",
       "      <td>0.133231</td>\n",
       "      <td>-0.008605</td>\n",
       "      <td>0.931302</td>\n",
       "      <td>0.161928</td>\n",
       "      <td>0.325335</td>\n",
       "      <td>0.238320</td>\n",
       "      <td>-0.223304</td>\n",
       "      <td>SG</td>\n",
       "    </tr>\n",
       "    <tr>\n",
       "      <th>3</th>\n",
       "      <td>0.404328</td>\n",
       "      <td>0.364787</td>\n",
       "      <td>1.057416</td>\n",
       "      <td>0.526660</td>\n",
       "      <td>0.407312</td>\n",
       "      <td>0.487356</td>\n",
       "      <td>-0.018390</td>\n",
       "      <td>SF</td>\n",
       "    </tr>\n",
       "    <tr>\n",
       "      <th>4</th>\n",
       "      <td>1.262801</td>\n",
       "      <td>-0.008605</td>\n",
       "      <td>1.057416</td>\n",
       "      <td>1.069007</td>\n",
       "      <td>1.344739</td>\n",
       "      <td>1.218259</td>\n",
       "      <td>-0.204093</td>\n",
       "      <td>PG</td>\n",
       "    </tr>\n",
       "  </tbody>\n",
       "</table>\n",
       "</div>"
      ],
      "text/plain": [
       "   Salaries      Line  Projected Minutes   Ceiling     Floor  Projection  \\\n",
       "0  0.359145  0.364787           1.057416  0.403134  0.369699    0.398658   \n",
       "1  2.166457  0.364787           1.057416  1.968046  1.784520    1.937222   \n",
       "2  0.133231 -0.008605           0.931302  0.161928  0.325335    0.238320   \n",
       "3  0.404328  0.364787           1.057416  0.526660  0.407312    0.487356   \n",
       "4  1.262801 -0.008605           1.057416  1.069007  1.344739    1.218259   \n",
       "\n",
       "     FD_PTS Position  \n",
       "0 -0.690765       PF  \n",
       "1  1.249517        C  \n",
       "2 -0.223304       SG  \n",
       "3 -0.018390       SF  \n",
       "4 -0.204093       PG  "
      ]
     },
     "execution_count": 67,
     "metadata": {},
     "output_type": "execute_result"
    }
   ],
   "source": [
    "feat_scale_data.head()"
   ]
  },
  {
   "cell_type": "code",
   "execution_count": 152,
   "metadata": {},
   "outputs": [],
   "source": [
    "mlp = MLPRegressor(hidden_layer_sizes = (100,), early_stopping=True)"
   ]
  },
  {
   "cell_type": "code",
   "execution_count": 158,
   "metadata": {},
   "outputs": [],
   "source": [
    "X = feat_scale_data[['Salaries', 'Projection', 'Line', 'Projected Minutes', 'Ceiling', 'Floor']]"
   ]
  },
  {
   "cell_type": "code",
   "execution_count": 159,
   "metadata": {},
   "outputs": [],
   "source": [
    "y = feat_scale_data[['FD_PTS']]"
   ]
  },
  {
   "cell_type": "code",
   "execution_count": 160,
   "metadata": {},
   "outputs": [],
   "source": [
    "import warnings\n",
    "warnings.filterwarnings(\"ignore\")"
   ]
  },
  {
   "cell_type": "code",
   "execution_count": 161,
   "metadata": {},
   "outputs": [
    {
     "name": "stdout",
     "output_type": "stream",
     "text": [
      "1\n",
      "2\n",
      "3\n",
      "4\n",
      "5\n"
     ]
    },
    {
     "data": {
      "text/plain": [
       "0.5339158307420084"
      ]
     },
     "execution_count": 161,
     "metadata": {},
     "output_type": "execute_result"
    }
   ],
   "source": [
    "score_arr = []\n",
    "for i in range(5):\n",
    "    X_train, X_test, y_train, y_test = train_test_split(X, y, test_size=0.25, random_state =np.random)\n",
    "    mlp.fit(X_train, y_train)\n",
    "    score = mlp.score(X_test, y_test)\n",
    "    score_arr.append(score)\n",
    "    print(i+1)\n",
    "np.mean(score_arr)"
   ]
  },
  {
   "cell_type": "code",
   "execution_count": null,
   "metadata": {},
   "outputs": [],
   "source": []
  },
  {
   "cell_type": "code",
   "execution_count": 157,
   "metadata": {},
   "outputs": [
    {
     "data": {
      "text/plain": [
       "MLPRegressor(activation='relu', alpha=0.0001, batch_size='auto', beta_1=0.9,\n",
       "             beta_2=0.999, early_stopping=True, epsilon=1e-08,\n",
       "             hidden_layer_sizes=(100,), learning_rate='constant',\n",
       "             learning_rate_init=0.001, max_iter=200, momentum=0.9,\n",
       "             n_iter_no_change=10, nesterovs_momentum=True, power_t=0.5,\n",
       "             random_state=None, shuffle=True, solver='adam', tol=0.0001,\n",
       "             validation_fraction=0.1, verbose=False, warm_start=False)"
      ]
     },
     "execution_count": 157,
     "metadata": {},
     "output_type": "execute_result"
    }
   ],
   "source": [
    "mlp.fit(X_train, y_train)"
   ]
  },
  {
   "cell_type": "code",
   "execution_count": 123,
   "metadata": {},
   "outputs": [
    {
     "data": {
      "text/plain": [
       "array([-0.04480239, -0.09836436, -0.55119022, ..., -0.14659501,\n",
       "        0.18650428,  1.03417749])"
      ]
     },
     "execution_count": 123,
     "metadata": {},
     "output_type": "execute_result"
    }
   ],
   "source": [
    "mlp.predict(X_test)"
   ]
  },
  {
   "cell_type": "code",
   "execution_count": null,
   "metadata": {},
   "outputs": [],
   "source": []
  },
  {
   "cell_type": "code",
   "execution_count": 124,
   "metadata": {},
   "outputs": [
    {
     "data": {
      "text/plain": [
       "0.5352854664902953"
      ]
     },
     "execution_count": 124,
     "metadata": {},
     "output_type": "execute_result"
    }
   ],
   "source": [
    "mlp.score(X_test, y_test)"
   ]
  },
  {
   "cell_type": "code",
   "execution_count": null,
   "metadata": {},
   "outputs": [],
   "source": []
  },
  {
   "cell_type": "code",
   "execution_count": 88,
   "metadata": {},
   "outputs": [],
   "source": [
    "ohe = OneHotEncoder(sparse=False)"
   ]
  },
  {
   "cell_type": "code",
   "execution_count": 60,
   "metadata": {},
   "outputs": [],
   "source": [
    "X = ohe.fit_transform(total_data[['Position']])"
   ]
  },
  {
   "cell_type": "code",
   "execution_count": 61,
   "metadata": {},
   "outputs": [
    {
     "data": {
      "text/plain": [
       "array([[0., 1., 0., 0., 0.],\n",
       "       [1., 0., 0., 0., 0.],\n",
       "       [0., 0., 0., 0., 1.],\n",
       "       ...,\n",
       "       [0., 0., 1., 0., 0.],\n",
       "       [1., 0., 0., 0., 0.],\n",
       "       [0., 0., 1., 0., 0.]])"
      ]
     },
     "execution_count": 61,
     "metadata": {},
     "output_type": "execute_result"
    }
   ],
   "source": [
    "X"
   ]
  },
  {
   "cell_type": "code",
   "execution_count": null,
   "metadata": {},
   "outputs": [],
   "source": []
  }
 ],
 "metadata": {
  "kernelspec": {
   "display_name": "Python 3",
   "language": "python",
   "name": "python3"
  },
  "language_info": {
   "codemirror_mode": {
    "name": "ipython",
    "version": 3
   },
   "file_extension": ".py",
   "mimetype": "text/x-python",
   "name": "python",
   "nbconvert_exporter": "python",
   "pygments_lexer": "ipython3",
   "version": "3.7.3"
  }
 },
 "nbformat": 4,
 "nbformat_minor": 2
}
